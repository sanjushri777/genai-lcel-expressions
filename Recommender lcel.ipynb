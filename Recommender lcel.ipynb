{
 "cells": [
  {
   "cell_type": "code",
   "execution_count": 17,
   "id": "f91f16ed",
   "metadata": {
    "height": 98
   },
   "outputs": [
    {
     "name": "stdout",
     "output_type": "stream",
     "text": [
      "ENTER THE PRODUCTS: mobile\n",
      "ENTER THE BUDGET: 5000\n",
      "Recommendation: 1. Xiaomi Redmi 7A\n",
      "2. Samsung Galaxy M01\n",
      "3. Realme C2\n",
      "4. Nokia 2.2\n",
      "5. Infinix Smart 4\n",
      "6. Micromax Infinity N12\n",
      "7. Lava Z62\n",
      "8. Tecno Spark Go 2020\n",
      "9. Panasonic Eluga I7\n",
      "10. Karbonn Titanium Jumbo 2\n"
     ]
    }
   ],
   "source": [
    "import os\n",
    "import openai\n",
    "from dotenv import find_dotenv, load_dotenv\n",
    "from langchain.prompts import ChatPromptTemplate\n",
    "from langchain.chat_models import ChatOpenAI\n",
    "from langchain.schema.output_parser import StrOutputParser\n",
    "\n",
    "_ = load_dotenv(find_dotenv())\n",
    "\n",
    "openai.api_key=os.environ['OPENAI_API_KEY']\n",
    "\n",
    "\n",
    "\n",
    "prompt = ChatPromptTemplate.from_template(\"Recommend me some {Products} under {budget}.\")\n",
    "model = ChatOpenAI(temperature=1.0)  #adjust the temperature to get creeative response\n",
    "output_parser = StrOutputParser()\n",
    "\n",
    "chain = prompt | model | output_parser\n",
    "\n",
    "\n",
    "product_input = input(\"ENTER THE PRODUCTS: \")\n",
    "budget_input = input(\"ENTER THE BUDGET: \")\n",
    "\n",
    "\n",
    "result = chain.invoke({\"Products\": product_input, \"budget\": budget_input})\n",
    "\n",
    "print(\"Recommendation:\", result)\n"
   ]
  },
  {
   "cell_type": "code",
   "execution_count": null,
   "id": "cb607a74",
   "metadata": {
    "height": 183
   },
   "outputs": [],
   "source": [
    "\n",
    "\n",
    "\n"
   ]
  }
 ],
 "metadata": {
  "kernelspec": {
   "display_name": "Python 3 (ipykernel)",
   "language": "python",
   "name": "python3"
  },
  "language_info": {
   "codemirror_mode": {
    "name": "ipython",
    "version": 3
   },
   "file_extension": ".py",
   "mimetype": "text/x-python",
   "name": "python",
   "nbconvert_exporter": "python",
   "pygments_lexer": "ipython3",
   "version": "3.9.19"
  }
 },
 "nbformat": 4,
 "nbformat_minor": 5
}
